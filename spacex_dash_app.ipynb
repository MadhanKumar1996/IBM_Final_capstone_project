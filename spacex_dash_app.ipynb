{
 "cells": [
  {
   "cell_type": "code",
   "execution_count": 1,
   "metadata": {},
   "outputs": [
    {
     "ename": "AttributeError",
     "evalue": "module 'collections' has no attribute 'MutableMapping'",
     "output_type": "error",
     "traceback": [
      "\u001b[1;31m---------------------------------------------------------------------------\u001b[0m",
      "\u001b[1;31mAttributeError\u001b[0m                            Traceback (most recent call last)",
      "\u001b[1;32mc:\\Users\\MadanKumar\\Desktop\\Intership\\ibm\\capstone project\\spacex_dash_app.ipynb Cell 1'\u001b[0m in \u001b[0;36m<cell line: 3>\u001b[1;34m()\u001b[0m\n\u001b[0;32m      <a href='vscode-notebook-cell:/c%3A/Users/MadanKumar/Desktop/Intership/ibm/capstone%20project/spacex_dash_app.ipynb#ch0000000?line=0'>1</a>\u001b[0m \u001b[39m#Import required libraries\u001b[39;00m\n\u001b[0;32m      <a href='vscode-notebook-cell:/c%3A/Users/MadanKumar/Desktop/Intership/ibm/capstone%20project/spacex_dash_app.ipynb#ch0000000?line=1'>2</a>\u001b[0m \u001b[39mimport\u001b[39;00m \u001b[39mpandas\u001b[39;00m \u001b[39mas\u001b[39;00m \u001b[39mpd\u001b[39;00m\n\u001b[1;32m----> <a href='vscode-notebook-cell:/c%3A/Users/MadanKumar/Desktop/Intership/ibm/capstone%20project/spacex_dash_app.ipynb#ch0000000?line=2'>3</a>\u001b[0m \u001b[39mimport\u001b[39;00m \u001b[39mdash\u001b[39;00m\n\u001b[0;32m      <a href='vscode-notebook-cell:/c%3A/Users/MadanKumar/Desktop/Intership/ibm/capstone%20project/spacex_dash_app.ipynb#ch0000000?line=3'>4</a>\u001b[0m \u001b[39mimport\u001b[39;00m \u001b[39mdash_html_components\u001b[39;00m \u001b[39mas\u001b[39;00m \u001b[39mhtml\u001b[39;00m\n\u001b[0;32m      <a href='vscode-notebook-cell:/c%3A/Users/MadanKumar/Desktop/Intership/ibm/capstone%20project/spacex_dash_app.ipynb#ch0000000?line=4'>5</a>\u001b[0m \u001b[39mimport\u001b[39;00m \u001b[39mdash_core_components\u001b[39;00m \u001b[39mas\u001b[39;00m \u001b[39mdcc\u001b[39;00m\n",
      "File \u001b[1;32mc:\\Users\\MadanKumar\\AppData\\Local\\Programs\\Python\\Python310\\lib\\site-packages\\dash\\__init__.py:1\u001b[0m, in \u001b[0;36m<module>\u001b[1;34m\u001b[0m\n\u001b[1;32m----> <a href='file:///c%3A/Users/MadanKumar/AppData/Local/Programs/Python/Python310/lib/site-packages/dash/__init__.py?line=0'>1</a>\u001b[0m \u001b[39mfrom\u001b[39;00m \u001b[39m.\u001b[39;00m\u001b[39mdash\u001b[39;00m \u001b[39mimport\u001b[39;00m Dash  \u001b[39m# noqa: F401\u001b[39;00m\n\u001b[0;32m      <a href='file:///c%3A/Users/MadanKumar/AppData/Local/Programs/Python/Python310/lib/site-packages/dash/__init__.py?line=1'>2</a>\u001b[0m \u001b[39mfrom\u001b[39;00m \u001b[39m.\u001b[39;00m \u001b[39mimport\u001b[39;00m dependencies  \u001b[39m# noqa: F401\u001b[39;00m\n\u001b[0;32m      <a href='file:///c%3A/Users/MadanKumar/AppData/Local/Programs/Python/Python310/lib/site-packages/dash/__init__.py?line=2'>3</a>\u001b[0m \u001b[39mfrom\u001b[39;00m \u001b[39m.\u001b[39;00m \u001b[39mimport\u001b[39;00m development  \u001b[39m# noqa: F401\u001b[39;00m\n",
      "File \u001b[1;32mc:\\Users\\MadanKumar\\AppData\\Local\\Programs\\Python\\Python310\\lib\\site-packages\\dash\\dash.py:25\u001b[0m, in \u001b[0;36m<module>\u001b[1;34m\u001b[0m\n\u001b[0;32m     <a href='file:///c%3A/Users/MadanKumar/AppData/Local/Programs/Python/Python310/lib/site-packages/dash/dash.py?line=21'>22</a>\u001b[0m \u001b[39mfrom\u001b[39;00m \u001b[39mflask_compress\u001b[39;00m \u001b[39mimport\u001b[39;00m Compress\n\u001b[0;32m     <a href='file:///c%3A/Users/MadanKumar/AppData/Local/Programs/Python/Python310/lib/site-packages/dash/dash.py?line=23'>24</a>\u001b[0m \u001b[39mfrom\u001b[39;00m \u001b[39m.\u001b[39;00m\u001b[39mdependencies\u001b[39;00m \u001b[39mimport\u001b[39;00m Event, Input, Output, State\n\u001b[1;32m---> <a href='file:///c%3A/Users/MadanKumar/AppData/Local/Programs/Python/Python310/lib/site-packages/dash/dash.py?line=24'>25</a>\u001b[0m \u001b[39mfrom\u001b[39;00m \u001b[39m.\u001b[39;00m\u001b[39mresources\u001b[39;00m \u001b[39mimport\u001b[39;00m Scripts, Css\n\u001b[0;32m     <a href='file:///c%3A/Users/MadanKumar/AppData/Local/Programs/Python/Python310/lib/site-packages/dash/dash.py?line=25'>26</a>\u001b[0m \u001b[39mfrom\u001b[39;00m \u001b[39m.\u001b[39;00m\u001b[39mdevelopment\u001b[39;00m\u001b[39m.\u001b[39;00m\u001b[39mbase_component\u001b[39;00m \u001b[39mimport\u001b[39;00m Component\n\u001b[0;32m     <a href='file:///c%3A/Users/MadanKumar/AppData/Local/Programs/Python/Python310/lib/site-packages/dash/dash.py?line=26'>27</a>\u001b[0m \u001b[39mfrom\u001b[39;00m \u001b[39m.\u001b[39;00m \u001b[39mimport\u001b[39;00m exceptions\n",
      "File \u001b[1;32mc:\\Users\\MadanKumar\\AppData\\Local\\Programs\\Python\\Python310\\lib\\site-packages\\dash\\resources.py:5\u001b[0m, in \u001b[0;36m<module>\u001b[1;34m\u001b[0m\n\u001b[0;32m      <a href='file:///c%3A/Users/MadanKumar/AppData/Local/Programs/Python/Python310/lib/site-packages/dash/resources.py?line=1'>2</a>\u001b[0m \u001b[39mimport\u001b[39;00m \u001b[39mwarnings\u001b[39;00m\n\u001b[0;32m      <a href='file:///c%3A/Users/MadanKumar/AppData/Local/Programs/Python/Python310/lib/site-packages/dash/resources.py?line=2'>3</a>\u001b[0m \u001b[39mimport\u001b[39;00m \u001b[39mos\u001b[39;00m\n\u001b[1;32m----> <a href='file:///c%3A/Users/MadanKumar/AppData/Local/Programs/Python/Python310/lib/site-packages/dash/resources.py?line=4'>5</a>\u001b[0m \u001b[39mfrom\u001b[39;00m \u001b[39m.\u001b[39;00m\u001b[39mdevelopment\u001b[39;00m\u001b[39m.\u001b[39;00m\u001b[39mbase_component\u001b[39;00m \u001b[39mimport\u001b[39;00m ComponentRegistry\n\u001b[0;32m      <a href='file:///c%3A/Users/MadanKumar/AppData/Local/Programs/Python/Python310/lib/site-packages/dash/resources.py?line=5'>6</a>\u001b[0m \u001b[39mfrom\u001b[39;00m \u001b[39m.\u001b[39;00m \u001b[39mimport\u001b[39;00m exceptions\n\u001b[0;32m      <a href='file:///c%3A/Users/MadanKumar/AppData/Local/Programs/Python/Python310/lib/site-packages/dash/resources.py?line=8'>9</a>\u001b[0m \u001b[39m# pylint: disable=old-style-class\u001b[39;00m\n",
      "File \u001b[1;32mc:\\Users\\MadanKumar\\AppData\\Local\\Programs\\Python\\Python310\\lib\\site-packages\\dash\\development\\__init__.py:1\u001b[0m, in \u001b[0;36m<module>\u001b[1;34m\u001b[0m\n\u001b[1;32m----> <a href='file:///c%3A/Users/MadanKumar/AppData/Local/Programs/Python/Python310/lib/site-packages/dash/development/__init__.py?line=0'>1</a>\u001b[0m \u001b[39mfrom\u001b[39;00m \u001b[39m.\u001b[39;00m \u001b[39mimport\u001b[39;00m base_component  \u001b[39m# noqa:F401\u001b[39;00m\n\u001b[0;32m      <a href='file:///c%3A/Users/MadanKumar/AppData/Local/Programs/Python/Python310/lib/site-packages/dash/development/__init__.py?line=1'>2</a>\u001b[0m \u001b[39mfrom\u001b[39;00m \u001b[39m.\u001b[39;00m \u001b[39mimport\u001b[39;00m component_loader\n",
      "File \u001b[1;32mc:\\Users\\MadanKumar\\AppData\\Local\\Programs\\Python\\Python310\\lib\\site-packages\\dash\\development\\base_component.py:67\u001b[0m, in \u001b[0;36m<module>\u001b[1;34m\u001b[0m\n\u001b[0;32m     <a href='file:///c%3A/Users/MadanKumar/AppData/Local/Programs/Python/Python310/lib/site-packages/dash/development/base_component.py?line=57'>58</a>\u001b[0m     \u001b[39mif\u001b[39;00m (\u001b[39mnot\u001b[39;00m \u001b[39mhasattr\u001b[39m(item, \u001b[39m'\u001b[39m\u001b[39mchildren\u001b[39m\u001b[39m'\u001b[39m) \u001b[39mor\u001b[39;00m\n\u001b[0;32m     <a href='file:///c%3A/Users/MadanKumar/AppData/Local/Programs/Python/Python310/lib/site-packages/dash/development/base_component.py?line=58'>59</a>\u001b[0m             (\u001b[39mnot\u001b[39;00m \u001b[39misinstance\u001b[39m(item\u001b[39m.\u001b[39mchildren, Component) \u001b[39mand\u001b[39;00m\n\u001b[0;32m     <a href='file:///c%3A/Users/MadanKumar/AppData/Local/Programs/Python/Python310/lib/site-packages/dash/development/base_component.py?line=59'>60</a>\u001b[0m              \u001b[39mnot\u001b[39;00m \u001b[39misinstance\u001b[39m(item\u001b[39m.\u001b[39mchildren, (\u001b[39mtuple\u001b[39m,\n\u001b[0;32m     <a href='file:///c%3A/Users/MadanKumar/AppData/Local/Programs/Python/Python310/lib/site-packages/dash/development/base_component.py?line=60'>61</a>\u001b[0m                                             collections\u001b[39m.\u001b[39mMutableSequence)))):\n\u001b[0;32m     <a href='file:///c%3A/Users/MadanKumar/AppData/Local/Programs/Python/Python310/lib/site-packages/dash/development/base_component.py?line=62'>63</a>\u001b[0m         \u001b[39mraise\u001b[39;00m \u001b[39mKeyError\u001b[39;00m\n\u001b[0;32m     <a href='file:///c%3A/Users/MadanKumar/AppData/Local/Programs/Python/Python310/lib/site-packages/dash/development/base_component.py?line=65'>66</a>\u001b[0m \u001b[39m@six\u001b[39m\u001b[39m.\u001b[39madd_metaclass(ComponentMeta)\n\u001b[1;32m---> <a href='file:///c%3A/Users/MadanKumar/AppData/Local/Programs/Python/Python310/lib/site-packages/dash/development/base_component.py?line=66'>67</a>\u001b[0m \u001b[39mclass\u001b[39;00m \u001b[39mComponent\u001b[39;00m(collections\u001b[39m.\u001b[39;49mMutableMapping):\n\u001b[0;32m     <a href='file:///c%3A/Users/MadanKumar/AppData/Local/Programs/Python/Python310/lib/site-packages/dash/development/base_component.py?line=67'>68</a>\u001b[0m     \u001b[39mclass\u001b[39;00m \u001b[39m_UNDEFINED\u001b[39;00m(\u001b[39mobject\u001b[39m):\n\u001b[0;32m     <a href='file:///c%3A/Users/MadanKumar/AppData/Local/Programs/Python/Python310/lib/site-packages/dash/development/base_component.py?line=68'>69</a>\u001b[0m         \u001b[39mdef\u001b[39;00m \u001b[39m__repr__\u001b[39m(\u001b[39mself\u001b[39m):\n",
      "\u001b[1;31mAttributeError\u001b[0m: module 'collections' has no attribute 'MutableMapping'"
     ]
    }
   ],
   "source": [
    "#Import required libraries\n",
    "import pandas as pd\n",
    "import dash\n",
    "import dash_html_components as html\n",
    "import dash_core_components as dcc\n",
    "from dash.dependencies import Input, Output\n",
    "import plotly.express as px"
   ]
  },
  {
   "cell_type": "code",
   "execution_count": null,
   "metadata": {},
   "outputs": [],
   "source": [
    "# Read the airline data into pandas dataframe\n",
    "spacex_df = pd.read_csv(\"spacex_launch_dash.csv\")\n",
    "max_payload = spacex_df['Payload Mass (kg)'].max()\n",
    "min_payload = spacex_df['Payload Mass (kg)'].min()"
   ]
  },
  {
   "cell_type": "code",
   "execution_count": null,
   "metadata": {},
   "outputs": [],
   "source": [
    "# Create a dash application\n",
    "app = dash.Dash(__name__)"
   ]
  },
  {
   "cell_type": "code",
   "execution_count": null,
   "metadata": {},
   "outputs": [],
   "source": [
    "# Create an app layout\n",
    "app.layout = html.Div(children=[html.H1('SpaceX Launch Records Dashboard',\n",
    "                                        style={'textAlign': 'center', 'color': '#503D36',\n",
    "                                               'font-size': 40}),\n",
    "                                # TASK 1: Add a dropdown list to enable Launch Site selection\n",
    "                                # The default select value is for ALL sites\n",
    "                                # dcc.Dropdown(id='site-dropdown',...)\n",
    "                                dcc.Dropdown(id='site-dropdown',\n",
    "                                             options=[\n",
    "                                                     {'label': 'All Sites', 'value': 'ALL'},\n",
    "                                                     {'label': 'CCAFS LC-40', 'value': 'CCAFS LC-40'},\n",
    "                                                     {'label': 'VAFB SLC-4E', 'value': 'VAFB SLC-4E'},\n",
    "                                                     {'label': 'KSC LC-39A', 'value': 'KSC LC-39A'},\n",
    "                                                     {'label': 'CCAFS SLC-40', 'value': 'CCAFS SLC-40'}\n",
    "                                                     ],\n",
    "                                             value='ALL',\n",
    "                                             placeholder='Select a Launch Site here',\n",
    "                                             searchable=True\n",
    "                                             # style={'width':'80%','padding':'3px','font-size':'20px','text-align-last':'center'}\n",
    "                                             ),\n",
    "                                html.Br(),\n",
    "\n",
    "                                # TASK 2: Add a pie chart to show the total successful launches count for all sites\n",
    "                                # If a specific launch site was selected, show the Success vs. Failed counts for the site\n",
    "                                html.Div(dcc.Graph(id='success-pie-chart')),\n",
    "                                html.Br(),\n",
    "\n",
    "                                html.P(\"Payload range (Kg):\"),\n",
    "                                # TASK 3: Add a slider to select payload range\n",
    "                                #dcc.RangeSlider(id='payload-slider',...)\n",
    "                                dcc.RangeSlider(id='payload-slider',\n",
    "                                                min=0,\n",
    "                                                max=10000,\n",
    "                                                step=1000,\n",
    "                                                value=[min_payload, max_payload]\n",
    "                                                ),\n",
    "\n",
    "                                # TASK 4: Add a scatter chart to show the correlation between payload and launch success\n",
    "                                html.Div(dcc.Graph(id='success-payload-scatter-chart')),\n",
    "                                ])"
   ]
  },
  {
   "cell_type": "code",
   "execution_count": null,
   "metadata": {},
   "outputs": [],
   "source": [
    "# TASK 2:\n",
    "# Add a callback function for `site-dropdown` as input, `success-pie-chart` as output\n",
    "@app.callback(Output(component_id='success-pie-chart', component_property='figure'),\n",
    "              Input(component_id='site-dropdown', component_property='value'))\n",
    "def get_pie_chart(entered_site):\n",
    "    filtered_df = spacex_df\n",
    "    if entered_site == 'ALL':\n",
    "        fig = px.pie(filtered_df, values='class', \n",
    "        names='Launch Site', \n",
    "        title='Success Count for all launch sites')\n",
    "        return fig\n",
    "    else:\n",
    "        # return the outcomes piechart for a selected site\n",
    "        filtered_df=spacex_df[spacex_df['Launch Site']== entered_site]\n",
    "        filtered_df=filtered_df.groupby(['Launch Site','class']).size().reset_index(name='class count')\n",
    "        fig=px.pie(filtered_df,values='class count',names='class',title=f\"Total Success Launches for site {entered_site}\")\n",
    "        return fig"
   ]
  },
  {
   "cell_type": "code",
   "execution_count": null,
   "metadata": {},
   "outputs": [],
   "source": [
    "# TASK 4:\n",
    "# Add a callback function for `site-dropdown` and `payload-slider` as inputs, `success-payload-scatter-chart` as output\n",
    "@app.callback(Output(component_id='success-payload-scatter-chart',component_property='figure'),\n",
    "                [Input(component_id='site-dropdown',component_property='value'),\n",
    "                Input(component_id='payload-slider',component_property='value')])\n",
    "def scatter(entered_site,payload):\n",
    "    filtered_df = spacex_df[spacex_df['Payload Mass (kg)'].between(payload[0],payload[1])]\n",
    "    # thought reusing filtered_df may cause issues, but tried it out of curiosity and it seems to be working fine\n",
    "    \n",
    "    if entered_site=='ALL':\n",
    "        fig=px.scatter(filtered_df,x='Payload Mass (kg)',y='class',color='Booster Version Category',title='Success count on Payload mass for all sites')\n",
    "        return fig\n",
    "    else:\n",
    "        fig=px.scatter(filtered_df[filtered_df['Launch Site']==entered_site],x='Payload Mass (kg)',y='class',color='Booster Version Category',title=f\"Success count on Payload mass for site {entered_site}\")\n",
    "        return fig\n",
    "\n",
    "# Run the app\n",
    "if __name__ == '__main__':\n",
    "    app.run_server()"
   ]
  }
 ],
 "metadata": {
  "interpreter": {
   "hash": "a3378366397054f4deb45f8e4a69542765dbdb30366800ef1fab7cf11f28cb41"
  },
  "kernelspec": {
   "display_name": "Python 3.10.4 64-bit",
   "language": "python",
   "name": "python3"
  },
  "language_info": {
   "codemirror_mode": {
    "name": "ipython",
    "version": 3
   },
   "file_extension": ".py",
   "mimetype": "text/x-python",
   "name": "python",
   "nbconvert_exporter": "python",
   "pygments_lexer": "ipython3",
   "version": "3.10.4"
  },
  "orig_nbformat": 4
 },
 "nbformat": 4,
 "nbformat_minor": 2
}
